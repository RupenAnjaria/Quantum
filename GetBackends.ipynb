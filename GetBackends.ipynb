from qiskit import IBMQ

# Load your IBM Quantum account
provider = IBMQ.load_account()

# Get the list of available backends
backends = provider.backends()

# Print the names of the available backends
for backend in backends:
    print(backend.name())
