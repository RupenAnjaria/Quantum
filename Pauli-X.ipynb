from qiskit import QuantumCircuit, execute, IBMQ

# Load your IBM Quantum account
provider = IBMQ.load_account()

# Create a quantum circuit with one qubit
circuit = QuantumCircuit(1, 1)

# Apply the Pauli-X gate to the qubit
circuit.x(0)

# Measure the qubit
circuit.measure(0, 0)

# Choose an IBM Quantum device to run the circuit on
backend = provider.get_backend('ibmq_qasm_simulator')

# Execute the circuit on the chosen backend
job = execute(circuit, backend, shots=1024)

# Get the result of the execution
result = job.result()

# Get the counts of the different measurement outcomes
counts = result.get_counts(circuit)

# Print the measurement outcomes
print(counts)
